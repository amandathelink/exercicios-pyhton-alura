{
  "nbformat": 4,
  "nbformat_minor": 0,
  "metadata": {
    "colab": {
      "provenance": [],
      "authorship_tag": "ABX9TyPO8VnBVqMjjLqUHInQx1mx",
      "include_colab_link": true
    },
    "kernelspec": {
      "name": "python3",
      "display_name": "Python 3"
    },
    "language_info": {
      "name": "python"
    }
  },
  "cells": [
    {
      "cell_type": "markdown",
      "metadata": {
        "id": "view-in-github",
        "colab_type": "text"
      },
      "source": [
        "<a href=\"https://colab.research.google.com/github/amandathelink/exercicios-pyhton-alura/blob/main/pyhton_datascience.ipynb\" target=\"_parent\"><img src=\"https://colab.research.google.com/assets/colab-badge.svg\" alt=\"Open In Colab\"/></a>"
      ]
    },
    {
      "cell_type": "code",
      "execution_count": 1,
      "metadata": {
        "id": "Nmcn71nkSThf"
      },
      "outputs": [],
      "source": [
        "##Escreva um código para instalar a versão 3.7.1 da biblioteca matplotlib."
      ]
    },
    {
      "cell_type": "code",
      "source": [
        "pip install matplotlib"
      ],
      "metadata": {
        "colab": {
          "base_uri": "https://localhost:8080/"
        },
        "id": "V59kUhhDSkY1",
        "outputId": "c9b80358-a8b7-4661-f914-1cc8493cf19a"
      },
      "execution_count": 2,
      "outputs": [
        {
          "output_type": "stream",
          "name": "stdout",
          "text": [
            "Requirement already satisfied: matplotlib in /usr/local/lib/python3.10/dist-packages (3.7.1)\n",
            "Requirement already satisfied: contourpy>=1.0.1 in /usr/local/lib/python3.10/dist-packages (from matplotlib) (1.1.0)\n",
            "Requirement already satisfied: cycler>=0.10 in /usr/local/lib/python3.10/dist-packages (from matplotlib) (0.11.0)\n",
            "Requirement already satisfied: fonttools>=4.22.0 in /usr/local/lib/python3.10/dist-packages (from matplotlib) (4.42.0)\n",
            "Requirement already satisfied: kiwisolver>=1.0.1 in /usr/local/lib/python3.10/dist-packages (from matplotlib) (1.4.4)\n",
            "Requirement already satisfied: numpy>=1.20 in /usr/local/lib/python3.10/dist-packages (from matplotlib) (1.23.5)\n",
            "Requirement already satisfied: packaging>=20.0 in /usr/local/lib/python3.10/dist-packages (from matplotlib) (23.1)\n",
            "Requirement already satisfied: pillow>=6.2.0 in /usr/local/lib/python3.10/dist-packages (from matplotlib) (9.4.0)\n",
            "Requirement already satisfied: pyparsing>=2.3.1 in /usr/local/lib/python3.10/dist-packages (from matplotlib) (3.1.1)\n",
            "Requirement already satisfied: python-dateutil>=2.7 in /usr/local/lib/python3.10/dist-packages (from matplotlib) (2.8.2)\n",
            "Requirement already satisfied: six>=1.5 in /usr/local/lib/python3.10/dist-packages (from python-dateutil>=2.7->matplotlib) (1.16.0)\n"
          ]
        }
      ]
    },
    {
      "cell_type": "code",
      "source": [
        "##Escreva um código para importar a biblioteca numpy com o alias np."
      ],
      "metadata": {
        "id": "N_fffYYDSzq1"
      },
      "execution_count": null,
      "outputs": []
    },
    {
      "cell_type": "code",
      "source": [
        "import numpy as np"
      ],
      "metadata": {
        "id": "x2fmWDQCS2nZ"
      },
      "execution_count": 3,
      "outputs": []
    },
    {
      "cell_type": "code",
      "source": [
        "## Crie um programa que lê a seguinte lista de números e escolha um número desta aleatoriamente.\n",
        "\n",
        "lista = [8, 12, 54, 23, 43, 1, 90, 87, 105, 77]\n"
      ],
      "metadata": {
        "id": "LPB6SuPfS8gm"
      },
      "execution_count": 4,
      "outputs": []
    },
    {
      "cell_type": "code",
      "source": [
        "lista = [8, 12, 54, 23, 43, 1, 90, 87, 105, 77]\n",
        "\n",
        "n1 = np.random.choice(lista)\n",
        "n1"
      ],
      "metadata": {
        "colab": {
          "base_uri": "https://localhost:8080/"
        },
        "id": "KuPef12VS-oo",
        "outputId": "b7a0fe68-64ed-4df2-8796-e0c1eee9c78b"
      },
      "execution_count": 5,
      "outputs": [
        {
          "output_type": "execute_result",
          "data": {
            "text/plain": [
              "77"
            ]
          },
          "metadata": {},
          "execution_count": 5
        }
      ]
    },
    {
      "cell_type": "code",
      "source": [
        "##Crie um programa que sorteia aleatoriamente um número inteiro menor que 100.\n",
        "random = np.random.randint(0, 99)\n",
        "random\n"
      ],
      "metadata": {
        "colab": {
          "base_uri": "https://localhost:8080/"
        },
        "id": "3n04JA3g6D6W",
        "outputId": "4e14be77-81a5-41bd-ef7c-729282aa27dd"
      },
      "execution_count": 6,
      "outputs": [
        {
          "output_type": "execute_result",
          "data": {
            "text/plain": [
              "46"
            ]
          },
          "metadata": {},
          "execution_count": 6
        }
      ]
    },
    {
      "cell_type": "code",
      "source": [
        " ##Crie um programa que solicite à pessoa usuária digitar dois números inteiros e calcular a potência do 1º número elevado ao 2º.\n",
        "n1 = int(input('Digite o primeiro número: '))\n",
        "n2 = int(input('Digite o segundo número: '))\n",
        "resultado = pow(n1, n2)\n",
        "print('O primeiro número elevado ao segundo número é:', resultado)"
      ],
      "metadata": {
        "colab": {
          "base_uri": "https://localhost:8080/"
        },
        "id": "P-IppZb7614O",
        "outputId": "c17746b1-2521-48d9-d49d-02e15a4041b0"
      },
      "execution_count": 7,
      "outputs": [
        {
          "output_type": "stream",
          "name": "stdout",
          "text": [
            "Digite o primeiro número: 5\n",
            "Digite o segundo número: 8\n",
            "O primeiro número elevado ao segundo número é: 390625\n"
          ]
        }
      ]
    },
    {
      "cell_type": "code",
      "source": [
        "##Um programa deve ser escrito para sortear uma pessoa seguidora de uma rede social para ganhar um prêmio.\n",
        "##A lista de participantes é numerada e devemos escolher aleatoriamente um número de acordo com a quantidade de participantes.\n",
        "##Peça à pessoa usuária para fornecer o número de participantes do sorteio e devolva para ela o número sorteado.\n",
        "qtd_participantes = int(input('Digite a quantidade de participantes: '))\n",
        "random = np.random.choice(qtd_participantes)\n",
        "random\n"
      ],
      "metadata": {
        "id": "fG9dA2xh8F3L",
        "colab": {
          "base_uri": "https://localhost:8080/"
        },
        "outputId": "5f2af2e0-ec66-4e6f-bbaf-2ee463576354"
      },
      "execution_count": 8,
      "outputs": [
        {
          "name": "stdout",
          "output_type": "stream",
          "text": [
            "Digite a quantidade de participantes: 6\n"
          ]
        },
        {
          "output_type": "execute_result",
          "data": {
            "text/plain": [
              "2"
            ]
          },
          "metadata": {},
          "execution_count": 8
        }
      ]
    },
    {
      "cell_type": "code",
      "source": [
        "##Você recebeu uma demanda para gerar números de token para o acesso ao aplicativo de uma empresa.\n",
        "##O token precisa ser par e variar de 1000 até 9998.\n",
        "##Escreva um código que solicita à pessoa usuária o seu nome e exibe uma mensagem junto a esse token gerado aleatoriamente.\n",
        "##\"Olá, [nome], o seu token de acesso é [token]! Seja bem-vindo(a)!\"\n",
        "\n",
        "nome_usuario = input('Por favor, digite seu primeiro e último nome: ')\n",
        "even_token = np.random.randint(500, 4999) * 2\n",
        "print('Olá,', nome_usuario + \", o seu token com números pares é:\", even_token, \"! Seja bem-vindo(a)\")\n",
        "\n"
      ],
      "metadata": {
        "id": "3kR-FG6R86dN",
        "colab": {
          "base_uri": "https://localhost:8080/"
        },
        "outputId": "68a78ad2-b3d2-422e-c785-cfd5510de1d1"
      },
      "execution_count": 9,
      "outputs": [
        {
          "output_type": "stream",
          "name": "stdout",
          "text": [
            "Por favor, digite seu primeiro e último nome: Amanda Santos\n",
            "Olá, Amanda Santos, o seu token com números pares é: 9724 ! Seja bem-vindo(a)\n"
          ]
        }
      ]
    },
    {
      "cell_type": "code",
      "source": [
        "##Para diversificar e atrair novos clientes, uma lanchonete criou um item misterioso em seu cardápio chamado \"salada de frutas surpresa\".\n",
        "##Neste item, são escolhidas aleatoriamente 3 frutas de uma lista de 12 para compor a salada de frutas da pessoa cliente.\n",
        "##Crie o código que faça essa seleção aleatória de acordo com a lista abaixo:\n",
        "\n",
        "frutas = [\"maçã\", \"banana\", \"uva\", \"pêra\",\n",
        "          \"manga\", \"coco\", \"melancia\", \"mamão\",\n",
        "          \"laranja\", \"abacaxi\", \"kiwi\", \"ameixa\"]\n",
        "random = np.random.choice(frutas, size=3, replace=False)\n",
        "random.tolist()"
      ],
      "metadata": {
        "id": "Uvx-1AT0HLBC",
        "colab": {
          "base_uri": "https://localhost:8080/"
        },
        "outputId": "599fedfa-d62b-4379-a012-8104e3e7349a"
      },
      "execution_count": 10,
      "outputs": [
        {
          "output_type": "execute_result",
          "data": {
            "text/plain": [
              "['laranja', 'coco', 'manga']"
            ]
          },
          "metadata": {},
          "execution_count": 10
        }
      ]
    },
    {
      "cell_type": "code",
      "source": [
        "##Você recebeu um desafio de calcular a raiz quadrada de uma lista de números, identificando quais resultaram em um número inteiro. A lista é a seguinte:\n",
        "numeros = [2, 8, 15, 23, 91, 112, 256]\n",
        "##Informe no final quais números possuem raízes inteiras e seus respectivos valores.\n",
        "for numero in numeros:\n",
        "  raiz_quadrada = np.sqrt(numero)\n",
        "  print(f'A raiz quadrada de {numero} é {raiz_quadrada}')\n",
        "  if raiz_quadrada != int(raiz_quadrada):\n",
        "    print(f'A raiz quadrada de {numero} não é inteiro')\n",
        "  else:\n",
        "    print(f'A raiz quadrada de {numero} é inteiro')\n"
      ],
      "metadata": {
        "id": "2uwwZZS6H_PD",
        "colab": {
          "base_uri": "https://localhost:8080/"
        },
        "outputId": "4be31066-8ea1-4cab-fb6c-45f26adff81d"
      },
      "execution_count": 11,
      "outputs": [
        {
          "output_type": "stream",
          "name": "stdout",
          "text": [
            "A raiz quadrada de 2 é 1.4142135623730951\n",
            "A raiz quadrada de 2 não é inteiro\n",
            "A raiz quadrada de 8 é 2.8284271247461903\n",
            "A raiz quadrada de 8 não é inteiro\n",
            "A raiz quadrada de 15 é 3.872983346207417\n",
            "A raiz quadrada de 15 não é inteiro\n",
            "A raiz quadrada de 23 é 4.795831523312719\n",
            "A raiz quadrada de 23 não é inteiro\n",
            "A raiz quadrada de 91 é 9.539392014169456\n",
            "A raiz quadrada de 91 não é inteiro\n",
            "A raiz quadrada de 112 é 10.583005244258363\n",
            "A raiz quadrada de 112 não é inteiro\n",
            "A raiz quadrada de 256 é 16.0\n",
            "A raiz quadrada de 256 é inteiro\n"
          ]
        }
      ]
    },
    {
      "cell_type": "code",
      "source": [
        "##Faça um programa para uma loja que vende grama para jardins.\n",
        "##Essa loja trabalha com jardins circulares e o preço do metro quadrado da grama é de R$ 25,00.\n",
        "##Peça à pessoa usuária o raio da área circular e devolva o valor em reais do quanto precisará pagar.\n",
        "\n",
        "raio = float(input('Digite o raio da área circular a ser calculada: '))\n",
        "area = np.pi * pow(raio, 2)\n",
        "preco = area * 25.00\n",
        "print('O preço a ser pago por metro quadrado é de: R$', round(preco, 2))"
      ],
      "metadata": {
        "id": "gL_dwrbtQCsH",
        "colab": {
          "base_uri": "https://localhost:8080/"
        },
        "outputId": "e94097c6-7918-4b23-98e3-d6544b67f71b"
      },
      "execution_count": 12,
      "outputs": [
        {
          "output_type": "stream",
          "name": "stdout",
          "text": [
            "Digite o raio da área circular a ser calculada: 6\n",
            "O preço a ser pago por metro quadrado é de: R$ 2827.43\n"
          ]
        }
      ]
    },
    {
      "cell_type": "code",
      "source": [
        "##Escreva um código que lê a lista abaixo e faça:\n",
        "lista = [16, 14, 63, 65, 17, 99, 70, 11, 20, 48, 79, 32, 17, 89, 12, 25, 66]\n",
        "##A leitura do tamanho da lista\n",
        "##A leitura do maior e menor valor\n",
        "##A soma dos valores da lista\n",
        "##Ao final exiba uma mensagem dizendo:\n",
        "##\"A lista possui [tam] números em que o maior número é [maior] e o menor número é [menor]. A soma dos valores presentes nela é igual a [soma]\"\n",
        "\n",
        "tamanho_lista = len(lista)\n",
        "maior_numero = max(lista)\n",
        "menor_numero = min(lista)\n",
        "soma_numeros = sum(lista)\n",
        "\n",
        "print(f'A lista possui {tamanho_lista} números em que o maior número é o {maior_numero} e o menor número é {menor_numero}. A soma dos valores presentes nela é igual a {soma_numeros}.')\n"
      ],
      "metadata": {
        "id": "dHSq7kKRSEZZ",
        "colab": {
          "base_uri": "https://localhost:8080/"
        },
        "outputId": "8eed1401-6d1d-49d1-c112-ffdef44e4f77"
      },
      "execution_count": 13,
      "outputs": [
        {
          "output_type": "stream",
          "name": "stdout",
          "text": [
            "A lista possui 17 números em que o maior número é o 99 e o menor número é 11. A soma dos valores presentes nela é igual a 743.\n"
          ]
        }
      ]
    },
    {
      "cell_type": "code",
      "source": [
        "##Escreva uma função que gere a tabuada de um número inteiro de 1 a 10, de acordo com a escolha da pessoa usuária. Como exemplo, para o número 7, a tabuada deve ser mostrada no seguinte formato:\n",
        "##Tabuada do 7:\n",
        "##7 x 0 = 0\n",
        "##7 x 1 = 7\n",
        "##[...]\n",
        "##7 x 10 = 70\n",
        "\n",
        "numero = int(input('Escolha um número de 1 a 10 para tabuada: '))\n",
        "print(f'Tabuada do {numero}: ')\n",
        "for i in range(0,11):\n",
        "  resultado = numero * i\n",
        "  print(f'{numero} x {i} = {resultado}')\n",
        "\n"
      ],
      "metadata": {
        "id": "U1fajucqTWk3",
        "colab": {
          "base_uri": "https://localhost:8080/"
        },
        "outputId": "f0e83a22-7f98-4b59-b90a-d7c00d413a11"
      },
      "execution_count": 14,
      "outputs": [
        {
          "output_type": "stream",
          "name": "stdout",
          "text": [
            "Escolha um número de 1 a 10 para tabuada: 5\n",
            "Tabuada do 5: \n",
            "5 x 0 = 0\n",
            "5 x 1 = 5\n",
            "5 x 2 = 10\n",
            "5 x 3 = 15\n",
            "5 x 4 = 20\n",
            "5 x 5 = 25\n",
            "5 x 6 = 30\n",
            "5 x 7 = 35\n",
            "5 x 8 = 40\n",
            "5 x 9 = 45\n",
            "5 x 10 = 50\n"
          ]
        }
      ]
    },
    {
      "cell_type": "code",
      "source": [
        "##Crie a função que leia a lista abaixo e retorne uma nova lista com os múltiplos de 3:\n",
        "lista = [97, 80, 94, 88, 80, 1, 16, 53, 62, 32, 24, 99]\n",
        "multiplos = []\n",
        "\n",
        "def leitura(lista):\n",
        "    for i in lista:\n",
        "        if i % 3 == 0:\n",
        "            multiplos.append(i)\n",
        "    return multiplos\n",
        "\n",
        "multiplos_encontrados = leitura(lista)\n",
        "print(multiplos_encontrados)"
      ],
      "metadata": {
        "id": "0ECbo5VMVDQx",
        "colab": {
          "base_uri": "https://localhost:8080/"
        },
        "outputId": "7308abb0-a555-474c-c513-19d26b3c317e"
      },
      "execution_count": 15,
      "outputs": [
        {
          "output_type": "stream",
          "name": "stdout",
          "text": [
            "[24, 99]\n"
          ]
        }
      ]
    },
    {
      "cell_type": "code",
      "source": [
        "##Crie uma lista dos quadrados dos números da seguinte lista\n",
        "lista = [1, 2, 3, 4, 5, 6, 7, 8, 9, 10]\n",
        "quadrados = map(lambda x: x ** 2, lista)\n",
        "quadrados_lista = list(quadrados)\n",
        "print(quadrados_lista)"
      ],
      "metadata": {
        "id": "DgkjzYIrXTxv",
        "colab": {
          "base_uri": "https://localhost:8080/"
        },
        "outputId": "fc6c9813-d0ef-44e9-ea1b-0e461c9e7d6f"
      },
      "execution_count": 16,
      "outputs": [
        {
          "output_type": "stream",
          "name": "stdout",
          "text": [
            "[1, 4, 9, 16, 25, 36, 49, 64, 81, 100]\n"
          ]
        }
      ]
    },
    {
      "cell_type": "code",
      "source": [
        "##Você foi contratado(a) como cientista de dados de uma associação de skate.\n",
        "##Para analisar as notas recebidas de skatistas em algumas competições ao longo do ano, você precisa criar um código que calcula a pontuação dos(as) atletas.\n",
        "##Para isso, o seu código deve receber 5 notas digitadas pelas pessoas juradas.\n",
        "##Para calcular a pontuação de um(a) skatista, você precisa eliminar a maior e a menor pontuação dentre as 5 notas e tirar a média das 3 notas que sobraram.\n",
        "##Retorne a média para apresentar o texto:\n",
        "##\"Nota da manobra: [media]\"\n",
        "\n",
        "def calcular_pontuacao(notas):\n",
        "    if len(notas) != 5:\n",
        "        raise ValueError(\"É necessário fornecer exatamente 5 notas.\")\n",
        "\n",
        "    notas_ordenadas = sorted(notas)\n",
        "    notas_soma = sum(notas_ordenadas[1:4])\n",
        "    media = notas_soma / 3\n",
        "\n",
        "    return media\n",
        "\n",
        "def inserir_notas():\n",
        "    notas = []\n",
        "\n",
        "    for _ in range(5):\n",
        "        while True:\n",
        "            nota_str = input(\"Digite uma nota: \")\n",
        "\n",
        "            try:\n",
        "                nota = float(nota_str)\n",
        "                if 0 <= nota <= 10:\n",
        "                    notas.append(nota)\n",
        "                    break\n",
        "                else:\n",
        "                    print(\"A nota deve estar entre 0 e 10.\")\n",
        "            except ValueError:\n",
        "                print(\"Digite um valor numérico válido.\")\n",
        "    return notas\n",
        "try:\n",
        "    notas_inseridas = inserir_notas()\n",
        "    pontuacao = calcular_pontuacao(notas_inseridas)\n",
        "    print(\"Pontuação final:\", round(pontuacao, 2))\n",
        "except ValueError as ve:\n",
        "    print(ve)\n",
        "\n",
        "\n"
      ],
      "metadata": {
        "id": "y5LX8E_srwct",
        "colab": {
          "base_uri": "https://localhost:8080/"
        },
        "outputId": "f011f5bb-9861-495b-cde1-1db419376e90"
      },
      "execution_count": 17,
      "outputs": [
        {
          "output_type": "stream",
          "name": "stdout",
          "text": [
            "Digite uma nota: 4\n",
            "Digite uma nota: 6\n",
            "Digite uma nota: 7\n",
            "Digite uma nota: 8\n",
            "Digite uma nota: 9\n",
            "Pontuação final: 7.0\n"
          ]
        }
      ]
    },
    {
      "cell_type": "code",
      "source": [
        "##Para atender a uma demanda de uma instituição de ensino para a análise do desempenho de seus(suas) estudantes\n",
        "##você precisa criar uma função que receba uma lista de 4 notas e retorne: - maior nota - menor nota - média - situação (Aprovado(a) ou Reprovado(a))\n",
        "##Para testar o comportamento da função, os dados podem ser exibidos em um texto:\n",
        "##\"O(a) estudante obteve uma média de [media], com a sua maior nota de [maior] pontos e a menor nota de [menor] pontos e foi [situacao]\"\n",
        "\n",
        "def calcular_media(notas):\n",
        "    if len(notas) != 4:\n",
        "        raise ValueError(\"É necessário fornecer exatamente 4 notas, mesmo que seja 0 ou falta.\")\n",
        "\n",
        "    notas_ordenadas = sorted(notas)\n",
        "    notas_soma = sum(notas_ordenadas)\n",
        "    media = notas_soma / 4\n",
        "\n",
        "    return media\n",
        "\n",
        "def obter_notas():\n",
        "    notas = []\n",
        "\n",
        "    for _ in range(4):\n",
        "        while True:\n",
        "            nota_str = input(\"Digite uma nota: \")\n",
        "            try:\n",
        "                nota = float(nota_str)\n",
        "                if 0 <= nota <= 10:\n",
        "                    notas.append(nota)\n",
        "                    break\n",
        "                else:\n",
        "                    print(\"A nota deve estar entre 0 e 10.\")\n",
        "            except ValueError:\n",
        "                print(\"Digite um valor numérico válido para a nota.\")\n",
        "\n",
        "    return notas\n",
        "\n",
        "try:\n",
        "    notas_inseridas = obter_notas()\n",
        "    pontuacao = calcular_media(notas_inseridas)\n",
        "    print(\"Média final:\", round(pontuacao, 2))\n",
        "    maior_nota = max(notas_inseridas)\n",
        "    menor_nota = min(notas_inseridas)\n",
        "    print(f'O(a) estudante obteve uma média de {pontuacao:.2f}, com a sua maior nota de {maior_nota:.2f} pontos e a menor nota de {menor_nota:.2f} pontos.')\n",
        "except ValueError as ve:\n",
        "    print(ve)\n",
        "\n"
      ],
      "metadata": {
        "id": "cXrcXfzZuZgO",
        "colab": {
          "base_uri": "https://localhost:8080/"
        },
        "outputId": "896471d5-2a5c-449c-bbd7-220e94a991e7"
      },
      "execution_count": 18,
      "outputs": [
        {
          "output_type": "stream",
          "name": "stdout",
          "text": [
            "Digite uma nota: 6\n",
            "Digite uma nota: 9\n",
            "Digite uma nota: 6\n",
            "Digite uma nota: 8\n",
            "Média final: 7.25\n",
            "O(a) estudante obteve uma média de 7.25, com a sua maior nota de 9.00 pontos e a menor nota de 6.00 pontos.\n"
          ]
        }
      ]
    },
    {
      "cell_type": "code",
      "source": [
        "##Você recebeu uma demanda para tratar 2 listas com os nomes e sobrenomes de cada estudante concatenando-as para apresentar seus nomes completos na forma `Nome Sobrenome`.\n",
        "##As listas são:\n",
        "nomes = [\"joão\", \"MaRia\", \"JOSÉ\"]\n",
        "sobrenomes = [\"SILVA\", \"souza\", \"Tavares\"]\n",
        "##O texto exibido ao fim deve ser parecido com:\n",
        "##\"Nome completo: Ana Silva\"\n",
        "##Dica: Utilize a função map para mapear os nomes e sobrenomes e as funções de string para tratar o texto.\n",
        "\n",
        "def formatar_nome_completo(nome, sobrenome):\n",
        "    nome_formatado = nome.capitalize()\n",
        "    sobrenome_formatado = sobrenome.capitalize()\n",
        "    nome_completo = f\"Nome completo: {nome_formatado} {sobrenome_formatado}\"\n",
        "    return nome_completo\n",
        "\n",
        "nomes_completos = list(map(formatar_nome_completo, nomes, sobrenomes))\n",
        "\n",
        "for nome_completo in nomes_completos:\n",
        "    print(nome_completo)\n",
        "\n",
        "\n",
        "\n",
        "\n",
        "\n"
      ],
      "metadata": {
        "colab": {
          "base_uri": "https://localhost:8080/"
        },
        "id": "sKyAf6NuIcOU",
        "outputId": "8a288e62-96dd-431a-c105-268b23961d40"
      },
      "execution_count": 19,
      "outputs": [
        {
          "output_type": "stream",
          "name": "stdout",
          "text": [
            "Nome completo: João Silva\n",
            "Nome completo: Maria Souza\n",
            "Nome completo: José Tavares\n"
          ]
        }
      ]
    },
    {
      "cell_type": "code",
      "source": [
        "##Como cientista de dados em um time de futebol, você precisa implementar novas formas de coleta de dados sobre o desempenho de jogadores e do time como um todo.\n",
        "##Sua primeira ação é criar uma forma de calcular a pontuação do time no campeonato nacional a partir dos dados de gols marcados e sofridos em cada jogo.\n",
        "##Escreva uma função chamada calcula_pontos que recebe como parâmetros duas listas de números inteiros, representando os gols marcados e sofridos pelo time em cada partida do campeonato.\n",
        "##A função deve retornar a pontuação do time e o aproveitamento em percentual, levando em consideração que a vitória vale 3 pontos, o empate vale 1 ponto e a derrota 0 pontos.\n",
        "##Observação: Se a quantidade de gols marcados numa partida for maior que a de sofridos, o time venceu. Caso seja igual, o time empatou e se for menor, o time perdeu.\n",
        "##Para calcular o aproveitamento devemos fazer a razão entre a pontuação do time pela pontuação máxima que ele poderia receber.\n",
        "##Para teste, utilize as seguintes listas de gols marcados e sofridos:\n",
        "\n",
        "def calcula_pontos(gols_marcados, gols_sofridos):\n",
        "    pontuacao = 0  #Começa com 0 para ser adicionado depois\n",
        "    pontuacao_maxima = len(gols_marcados) * 3  # Pontuação máxima possível (3 pontos por vitória)\n",
        "    resultados = []\n",
        "\n",
        "    for i in range(len(gols_marcados)):\n",
        "        gol = gols_marcados[i]\n",
        "        gols = gols_sofridos[i]\n",
        "\n",
        "        if gol > gols:\n",
        "            pontuacao += 3\n",
        "            resultados.append(\"Vitória\")\n",
        "        elif gol == gols:\n",
        "            pontuacao += 1\n",
        "            resultados.append(\"Empate\")\n",
        "        else:\n",
        "            resultados.append(\"Derrota\")\n",
        "\n",
        "    aproveitamento = (pontuacao / pontuacao_maxima) * 100\n",
        "\n",
        "    return pontuacao, aproveitamento, resultados\n",
        "\n",
        "gols_marcados = [2, 1, 3, 1, 0]\n",
        "gols_sofridos = [1, 2, 2, 1, 3]\n",
        "\n",
        "# Chamada da função e exibição dos resultados\n",
        "pontuacao, aproveitamento, resultados = calcula_pontos(gols_marcados, gols_sofridos)\n",
        "\n",
        "for i, resultado in enumerate(resultados):\n",
        "    print(f\"Jogo {i + 1}: {resultado}\")\n",
        "\n",
        "print(f\"Pontuação do time: {pontuacao}\")\n",
        "print(f\"Aproveitamento: {aproveitamento:.2f}%\")"
      ],
      "metadata": {
        "colab": {
          "base_uri": "https://localhost:8080/"
        },
        "id": "CRbPl-G60u03",
        "outputId": "11626608-a5db-4cb5-aacc-42192e7fa00f"
      },
      "execution_count": 20,
      "outputs": [
        {
          "output_type": "stream",
          "name": "stdout",
          "text": [
            "Jogo 1: Vitória\n",
            "Jogo 2: Derrota\n",
            "Jogo 3: Vitória\n",
            "Jogo 4: Empate\n",
            "Jogo 5: Derrota\n",
            "Pontuação do time: 7\n",
            "Aproveitamento: 46.67%\n"
          ]
        }
      ]
    },
    {
      "cell_type": "code",
      "source": [
        "##Você recebeu o desafio de criar um código que calcula os gastos de uma viagem para um das quatro cidades partindo de Recife,\n",
        "##sendo elas: Salvador, Fortaleza, Natal e Aracaju.\n",
        "##O custo da diária do hotel é de 150 reais em todas elas e o consumo de gasolina na viagem de carro é de 14 km/l\n",
        "##, sendo que o valor da gasolina é de 5 reais o litro. O gastos com passeios e alimentação a se fazer em cada uma delas por dia seria de\n",
        "passeio_alimentacao = [200, 400, 250, 300] ##, respectivamente.\n",
        "##Sabendo que as distâncias entre Recife e cada uma das cidades é de aproximadamente\n",
        "distancias = [850, 800, 300, 550] ##km, crie três funções nas quais: a 1ª função calcule os gastos com hotel (gasto_hotel),\n",
        "##a 2ª calcule os gastos com a gasolina (gasto_gasolina) e a 3ª os gastos com passeio e alimentação (gasto_passeio).\n",
        "##Para testar, simule uma viagem de 3 dias para Salvador partindo de Recife. Considere a viagem de ida e volta de carro.\n",
        "##\"Com base nos gastos definidos, uma viagem de [dias] dias para [cidade] saindo de Recife custaria [gastos] reais\"\n",
        "\n",
        "def gastos_hotel(dias):\n",
        "    diaria_hotel = 150\n",
        "    total = diaria_hotel * dias\n",
        "    return total\n",
        "\n",
        "def gastos_gasolina(km):\n",
        "  km_l = 14\n",
        "  gas = 5\n",
        "  total_gas = (km / 14) * 5\n",
        "  return total_gas\n",
        "\n",
        "def passeio_e_alimentacao(dias_estadias):\n",
        "  passeio = dict(zip(cidades, passeio_alimentacao))\n",
        "  pa = passeio[cidade]\n",
        "  total_passeio_ali = dias_estadias * pa\n",
        "\n",
        "  return total_passeio_ali\n",
        "\n",
        "cidades = ['Salvador', 'Fortaleza', 'Natal','Aracaju']\n",
        "associacoes = dict(zip(cidades, distancias))\n",
        "cidade = input('Digite uma cidade (Salvador, Fortaleza, Natal ou Aracaju): ')\n",
        "if cidade in cidades:\n",
        "  c = associacoes[cidade]\n",
        "  pass\n",
        "else: print('Cidade não encontrada.')\n",
        "\n",
        "dias_estadias = int(input('Quantos dias de estadia? '))\n",
        "total_gastos = gastos_hotel(dias_estadias)\n",
        "\n",
        "km = associacoes[cidade]\n",
        "\n",
        "total_gasolina = round(gastos_gasolina(km), 2)\n",
        "\n",
        "\n",
        "total_pa = passeio_e_alimentacao(dias_estadias)\n",
        "\n",
        "\n",
        "dinheiro = round(total_gastos + total_gasolina + total_pa)\n",
        "\n",
        "\n",
        "print(f\"Com base nos gastos definidos, uma viagem de {dias_estadias} dias para {cidade} saindo de Recife custaria {dinheiro} reais.\")\n",
        "\n",
        "\n",
        "\n"
      ],
      "metadata": {
        "colab": {
          "base_uri": "https://localhost:8080/"
        },
        "id": "fDlsGF2J_Y0J",
        "outputId": "f532f1dc-b097-4fb5-f646-32c4ed3935dc"
      },
      "execution_count": 21,
      "outputs": [
        {
          "output_type": "stream",
          "name": "stdout",
          "text": [
            "Digite uma cidade (Salvador, Fortaleza, Natal ou Aracaju): Salvador\n",
            "Quantos dias de estadia? 3\n",
            "Com base nos gastos definidos, uma viagem de 3 dias para Salvador saindo de Recife custaria 1354 reais.\n"
          ]
        }
      ]
    },
    {
      "cell_type": "code",
      "source": [
        "numeros = [1, 2, 3, 4, 5]\n",
        "strings = ['um', 'dois', 'três', 'quatro', 'cinco']\n",
        "\n",
        "associacoes = dict(zip(strings, numeros))\n",
        "\n",
        "print(associacoes)\n"
      ],
      "metadata": {
        "colab": {
          "base_uri": "https://localhost:8080/"
        },
        "id": "qadBdd5v_gZP",
        "outputId": "243a4c54-dbef-4138-cddd-90b4e733659b"
      },
      "execution_count": 22,
      "outputs": [
        {
          "output_type": "stream",
          "name": "stdout",
          "text": [
            "{'um': 1, 'dois': 2, 'três': 3, 'quatro': 4, 'cinco': 5}\n"
          ]
        }
      ]
    }
  ]
}